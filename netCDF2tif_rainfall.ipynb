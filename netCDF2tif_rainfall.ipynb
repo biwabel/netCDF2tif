{
 "cells": [
  {
   "cell_type": "markdown",
   "metadata": {},
   "source": [
    "# NetCDF zu GeoTIFF Konvertierung\n",
    "Dieses Skript lädt NetCDF-Dateien, extrahiert relevante Daten, und speichert sie als GeoTIFF-Dateien. Da NetCDF-Dateien oft Zeitschritte enthalten, wird das Skript die Daten über die Zeitachsen iterieren und mehrere TIFF-Dateien erzeugen (eines pro Zeitschritt).\n",
    "\n",
    "### Bibliotheken:\n",
    "- `xarray`: Für das Laden und Bearbeiten von NetCDF-Daten.\n",
    "- `rasterio`: Für die Erstellung von GeoTIFF-Dateien.\n",
    "- `numpy`: Für die Arbeit mit numerischen Daten.\n",
    "\n",
    "### Vorgehen:\n",
    "1. Bibliotheken laden und NetCDF-Datei öffnen.\n",
    "2. Überprüfen der Datenstruktur (Dimensionen, Variablen).\n",
    "3. Konvertierung der NetCDF-Daten (pro Zeitschritt) in GeoTIFF.\n"
   ]
  },
  {
   "cell_type": "code",
   "execution_count": 1,
   "metadata": {},
   "outputs": [],
   "source": [
    "# Bibliotheken importieren\n",
    "import xarray as xr\n",
    "import rasterio\n",
    "import numpy as np\n",
    "import os\n"
   ]
  },
  {
   "cell_type": "markdown",
   "metadata": {},
   "source": [
    "## Schritt 1: NetCDF-Datei laden\n",
    "Verwende die Bibliothek `xarray`, um die NetCDF-Datei zu öffnen und einen Überblick über die enthaltenen Daten und Dimensionen zu bekommen.\n",
    "Bitte passe den Pfad zu deiner NetCDF-Datei an.\n"
   ]
  },
  {
   "cell_type": "code",
   "execution_count": null,
   "metadata": {},
   "outputs": [],
   "source": [
    "# NetCDF-Datei laden (Pfad zur Datei anpassen)\n",
    "nc_file_path = 'dein_pfad/zur_netCDF_datei.nc'\n",
    "\n",
    "# Öffnen der NetCDF-Datei mit xarray\n",
    "ds = xr.open_dataset(nc_file_path)\n",
    "\n",
    "# Überblick über die Datenstruktur (Dimensionen, Variablen)\n",
    "print(ds)\n",
    "\n",
    "# Wenn du die Zeitschritte oder andere Variablen sehen möchtest:\n",
    "print(\"Zeitliche Dimension:\", ds.coords['time'].values)\n"
   ]
  },
  {
   "cell_type": "markdown",
   "metadata": {},
   "source": [
    "## Schritt 2: Auswahl der Variable und des Zeitintervalls\n",
    "Wähle die Variable aus der NetCDF-Datei, die du konvertieren möchtest (z.B. Temperatur, Niederschlag, etc.), und definiere den Zeitschritt, den du in eine GeoTIFF-Datei umwandeln möchtest.\n"
   ]
  },
  {
   "cell_type": "code",
   "execution_count": null,
   "metadata": {},
   "outputs": [],
   "source": [
    "# Wähle die Variable, die konvertiert werden soll (Name anpassen)\n",
    "variable_name = 'temperature'  # Beispiel: 'temperature', 'precipitation', etc.\n",
    "\n",
    "# Greife auf die Daten der Variable zu\n",
    "data_var = ds[variable_name]\n",
    "\n",
    "# Zeitschritt auswählen (Index anpassen)\n",
    "# Hier wähle den ersten Zeitschritt als Beispiel\n",
    "time_index = 0\n",
    "\n",
    "# Daten des ausgewählten Zeitschritts extrahieren\n",
    "data_at_time = data_var.isel(time=time_index)\n",
    "\n",
    "# Überprüfen der extrahierten Daten\n",
    "print(data_at_time)\n"
   ]
  },
  {
   "cell_type": "markdown",
   "metadata": {},
   "source": [
    "## Schritt 3: Konvertierung in GeoTIFF\n",
    "Nun konvertieren wir die extrahierten Rasterdaten in eine GeoTIFF-Datei. Dafür wird die Bibliothek `rasterio` verwendet. Wir müssen auch die Geoinformationen wie die Projektion (z.B. WGS84) und die Bounding Box bereitstellen.\n"
   ]
  },
  {
   "cell_type": "code",
   "execution_count": null,
   "metadata": {},
   "outputs": [],
   "source": [
    "# Erstellen eines GeoTIFF-Dateipfads\n",
    "output_tif = 'output_raster.tif'\n",
    "\n",
    "# Beispielhafte affine Transformation und CRS (proj4 oder EPSG-Code)\n",
    "transform = rasterio.transform.from_origin(west=0, north=0, xsize=0.1, ysize=0.1)  # Beispielhafte Parameter\n",
    "crs = 'EPSG:4326'  # WGS84\n",
    "\n",
    "# Öffnen einer neuen TIFF-Datei zum Schreiben\n",
    "with rasterio.open(\n",
    "    output_tif, \n",
    "    'w', \n",
    "    driver='GTiff', \n",
    "    height=data_at_time.shape[0], \n",
    "    width=data_at_time.shape[1], \n",
    "    count=1, \n",
    "    dtype=str(data_at_time.dtype), \n",
    "    crs=crs, \n",
    "    transform=transform\n",
    ") as dst:\n",
    "    # Schreibe die Daten in die TIFF-Datei\n",
    "    dst.write(data_at_time.values, 1)\n",
    "\n",
    "print(f'Datei {output_tif} erfolgreich erstellt.')\n"
   ]
  },
  {
   "cell_type": "markdown",
   "metadata": {},
   "source": [
    "## Schritt 4: Konvertierung für alle Zeitschritte (optional)\n",
    "Falls die NetCDF-Datei mehrere Zeitschritte enthält und du alle in separate TIFF-Dateien konvertieren möchtest, kannst du über die Zeitachse iterieren und für jeden Zeitschritt eine TIFF-Datei erzeugen.\n"
   ]
  },
  {
   "cell_type": "code",
   "execution_count": null,
   "metadata": {},
   "outputs": [],
   "source": [
    "# Erstellen eines Ordners zum Speichern der GeoTIFFs\n",
    "output_folder = 'output_tiffs'\n",
    "os.makedirs(output_folder, exist_ok=True)\n",
    "\n",
    "# Über die Zeitachsen iterieren\n",
    "for i in range(len(ds.coords['time'])):\n",
    "    # Extrahiere Daten für den aktuellen Zeitschritt\n",
    "    data_at_time = data_var.isel(time=i)\n",
    "    \n",
    "    # Dateiname für den aktuellen Zeitschritt\n",
    "    output_tif = os.path.join(output_folder, f'raster_time_{i}.tif')\n",
    "    \n",
    "    # GeoTIFF-Datei erstellen\n",
    "    with rasterio.open(\n",
    "        output_tif, \n",
    "        'w', \n",
    "        driver='GTiff', \n",
    "        height=data_at_time.shape[0], \n",
    "        width=data_at_time.shape[1], \n",
    "        count=1, \n",
    "        dtype=str(data_at_time.dtype), \n",
    "        crs=crs, \n",
    "        transform=transform\n",
    "    ) as dst:\n",
    "        dst.write(data_at_time.values, 1)\n",
    "\n",
    "    print(f'Datei {output_tif} für Zeitschritt {i} erfolgreich erstellt.')\n"
   ]
  },
  {
   "cell_type": "markdown",
   "metadata": {},
   "source": [
    "## Fazit\n",
    "Das Skript ermöglicht die Konvertierung von NetCDF-Daten in GeoTIFF-Dateien, wobei Zeitschritte berücksichtigt werden. Diese Methode kann verwendet werden, um rasterbasierte Zeitreihenanalysen in einem georeferenzierten Format (TIFF) zu speichern und weiterzuverarbeiten.\n"
   ]
  }
 ],
 "metadata": {
  "kernelspec": {
   "display_name": "Python 3",
   "language": "python",
   "name": "python3"
  },
  "language_info": {
   "codemirror_mode": {
    "name": "ipython",
    "version": 3
   },
   "file_extension": ".py",
   "mimetype": "text/x-python",
   "name": "python",
   "nbconvert_exporter": "python",
   "pygments_lexer": "ipython3",
   "version": "3.12.1"
  }
 },
 "nbformat": 4,
 "nbformat_minor": 2
}
